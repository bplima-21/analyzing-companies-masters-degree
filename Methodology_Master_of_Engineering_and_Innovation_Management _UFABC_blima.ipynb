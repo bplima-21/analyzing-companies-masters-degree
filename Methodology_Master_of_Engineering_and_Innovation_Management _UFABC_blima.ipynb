{
 "cells": [
  {
   "cell_type": "markdown",
   "id": "b48023a1",
   "metadata": {},
   "source": [
    "# Bibliotecas utilizadas"
   ]
  },
  {
   "cell_type": "code",
   "execution_count": null,
   "id": "31712991",
   "metadata": {
    "ExecuteTime": {
     "end_time": "2022-04-05T18:03:57.509650Z",
     "start_time": "2022-04-05T18:03:57.506907Z"
    }
   },
   "outputs": [],
   "source": [
    "import pandas as pd\n",
    "import numpy as np\n",
    "import matplotlib.pyplot as plt\n",
    "import seaborn as sns\n",
    "from sklearn.linear_model import LogisticRegression, LinearRegression, Ridge\n",
    "from sklearn.metrics import roc_auc_score\n",
    "import xgboost\n",
    "import shap\n",
    "from sklearn.model_selection import RandomizedSearchCV\n",
    "from scipy.stats import uniform\n",
    "from sklearn.preprocessing import StandardScaler"
   ]
  },
  {
   "cell_type": "code",
   "execution_count": null,
   "id": "b9132035",
   "metadata": {
    "ExecuteTime": {
     "end_time": "2022-04-05T18:03:57.634691Z",
     "start_time": "2022-04-05T18:03:57.632267Z"
    }
   },
   "outputs": [],
   "source": [
    "import warnings\n",
    "warnings.filterwarnings('ignore')"
   ]
  },
  {
   "cell_type": "code",
   "execution_count": null,
   "id": "b4983a54",
   "metadata": {
    "ExecuteTime": {
     "end_time": "2022-04-05T18:03:57.916247Z",
     "start_time": "2022-04-05T18:03:57.913772Z"
    }
   },
   "outputs": [],
   "source": [
    "pd.options.display.max_columns=None"
   ]
  },
  {
   "cell_type": "code",
   "execution_count": null,
   "id": "6419c45a",
   "metadata": {
    "ExecuteTime": {
     "end_time": "2022-04-05T18:03:58.050833Z",
     "start_time": "2022-04-05T18:03:58.048304Z"
    }
   },
   "outputs": [],
   "source": [
    "DATA_PATH = '../data/'"
   ]
  },
  {
   "cell_type": "code",
   "execution_count": null,
   "id": "63a9132e",
   "metadata": {
    "ExecuteTime": {
     "end_time": "2022-04-05T18:03:58.241797Z",
     "start_time": "2022-04-05T18:03:58.161565Z"
    }
   },
   "outputs": [],
   "source": [
    "df = pd.read_csv(DATA_PATH+'dados_manipulados_v2_edicao_1_clean.csv', sep=';')"
   ]
  },
  {
   "cell_type": "markdown",
   "id": "45e37ed9",
   "metadata": {},
   "source": [
    "# Funções utilizadas"
   ]
  },
  {
   "cell_type": "code",
   "execution_count": null,
   "id": "529e37d8",
   "metadata": {
    "ExecuteTime": {
     "end_time": "2022-04-05T18:03:58.461922Z",
     "start_time": "2022-04-05T18:03:58.442544Z"
    }
   },
   "outputs": [],
   "source": [
    "def analise_cat_1(df,var,label = '',fl_ordena=0, num = False, q = 0, q2 = 0, y = '', ajst_taxa = False,tx_real_evento=0.027):\n",
    "    '''\n",
    "    Analise bivariada\n",
    "    '''  \n",
    "    if ajst_taxa == True:\n",
    "        qty_amostras_real = df.loc[df[y]==1].shape[0] / tx_real_evento\n",
    "       \n",
    "        if df.shape[0] < qty_amostras_real:\n",
    "            n = int(qty_amostras_real - df.shape[0])\n",
    "            df_sel = (df[[var, y]].loc[df[y]==0]).iloc[list(np.random.choice(df.loc[df[y]==0].shape[0], n))]\n",
    "            df = pd.concat([df[[var, y]],df_sel])\n",
    "   \n",
    "    if label == '':\n",
    "        label = var\n",
    "    df_ = df.copy()\n",
    "    if num:\n",
    "        if q == 0:\n",
    "            if q2 == 0:\n",
    "                df_[var+'_cat'] = pd.qcut(df_[var],q= [0.0,0.2,0.5,0.8,1.0],retbins=True,duplicates='drop')[0].cat.add_categories('missing')\n",
    "                var= var+'_cat'\n",
    "            else:\n",
    "                df_[var+'_cat'] = pd.qcut(df_[var],q= q2,retbins=True,duplicates='drop')[0].cat.add_categories('missing')\n",
    "                var= var+'_cat'\n",
    "        else :\n",
    "            df_[var+'_cat'] = pd.cut(df_[var],bins=q).cat.add_categories('missing')\n",
    "            var= var+'_cat'\n",
    "    print('\\n')\n",
    "    print('Análise da variável {}'.format(var))\n",
    "    print('# valores distintos {}'.format(df_[var].nunique()))\n",
    "    try:\n",
    "        df_[var] = df_[var].fillna('missing')\n",
    "    except :\n",
    "        df_[var] = df_[var].cat.add_categories('missing').fillna('missing')\n",
    "   \n",
    "    total_maus = df_[y].sum()\n",
    "    total_bons = df_.shape[0] - df_[y].sum()\n",
    "\n",
    "    def tx(x):\n",
    "        return sum(x)*100/sum(1 -x +x)\n",
    "    def pct(x):\n",
    "        return sum(1-x+x)*1.0/ (df_.shape[0])\n",
    "    def pct_maus(x):\n",
    "        return (sum(x)/total_maus )\n",
    "    def rr(x):\n",
    "        return (sum(x)/total_maus )/(sum(1-x)/total_bons)\n",
    "    def WoE(x):\n",
    "        return np.log(rr(x))\n",
    "    def IV(x):\n",
    "        return -(sum(1-x)/total_bons - sum(x)/total_maus)*WoE(x)\n",
    "    s = df_.groupby(var).agg({y: [np.size,pct,pct_maus, tx,rr,WoE,IV]})[y]\n",
    "    def color_negative_green(val):\n",
    "        color = 'green' if val < 0 else 'black'\n",
    "        return 'color: %s' % color\n",
    "    print('IV : {:.3f}'.format(s.IV.sum()))\n",
    "    #print('Beta : {:.3f}'.format(dic_beta[var]))\n",
    "    t = s.style.applymap(color_negative_green)\n",
    "    display(pd.DataFrame(df_[var].value_counts()).join(pd.DataFrame(df_[var].value_counts(normalize= True)*100), lsuffix = 'k').rename(columns = {var+'k': '#', var: '%'}))\n",
    "    display(t)\n",
    "    by_var = df_.groupby(var).agg({y:[np.size, np.mean]})[y]\n",
    "    if fl_ordena ==1 :\n",
    "        by_var =  by_var.sort_values(by = 'mean')\n",
    "    Y1 = by_var['size']\n",
    "    Y2 =by_var['mean']\n",
    "    Y_mean = np.ones(shape=(len(Y1.index)))* df_[y].mean()\n",
    "    index =  np.arange(len(Y1.index))\n",
    "    #with plt.style.context('my_custom_style'):\n",
    "    if True:\n",
    "        plt.figure(figsize=(14,6))\n",
    "        plt.bar(index,Y1,alpha = 0.3, color= 'gray')\n",
    "        plt.grid(False)\n",
    "        plt.xticks(rotation = 30         if var[:2] not in ( 'fl', 'cd')  else 0)\n",
    "        plt.ylabel('# registros')\n",
    "        plt.twinx()\n",
    "        plt.gca().set_xticks(index)\n",
    "        plt.gca().set_xticklabels([Y1.index[i] for i in index], rotation = 40)\n",
    "        plt.plot(index,Y_mean,label=  'tx. média evento')\n",
    "        plt.plot(index,Y2,marker = 'o',label=  'tx. evento')\n",
    "        plt.gca().set_yticklabels([ ' {:.2f}%'.format( i*100) for i in plt.gca().get_yticks()])\n",
    "        plt.grid(False)\n",
    "        plt.title('Bivariada  {}'.format(label))\n",
    "        plt.ylabel('tx. evento')\n",
    "        plt.xlabel(label)\n",
    "        if var[:2] in ( 'fl', 'cd'):\n",
    "            plt.legend(loc= 9,bbox_to_anchor=(0.5, -0.1))\n",
    "        else:\n",
    "            plt.legend(loc= 9,bbox_to_anchor=(0.5, -0.35))\n",
    "        plt.show()\n",
    "        print(s.IV.sum())\n",
    "        return  (var , s.IV.sum(), s)\n",
    "        print('\\n')\n",
    "\n",
    "def call_analise_list(df, label,l, num=True):\n",
    "    for col in l:\n",
    "   \n",
    "        analise_cat_1(df,col ,y=label, num=num, q2=10  )\n",
    "    \n",
    "def create_woe(df, coluna, mapa):\n",
    "    return mapa.loc[df[coluna]]['WoE']"
   ]
  },
  {
   "cell_type": "markdown",
   "id": "8f778aa2",
   "metadata": {},
   "source": [
    "# Limpeza dos dados "
   ]
  },
  {
   "cell_type": "code",
   "execution_count": null,
   "id": "63bf9509",
   "metadata": {
    "ExecuteTime": {
     "end_time": "2022-04-05T18:03:58.776605Z",
     "start_time": "2022-04-05T18:03:58.745536Z"
    },
    "scrolled": true
   },
   "outputs": [],
   "source": [
    "df.head() "
   ]
  },
  {
   "cell_type": "code",
   "execution_count": null,
   "id": "65ce1d7f",
   "metadata": {
    "ExecuteTime": {
     "end_time": "2022-04-05T18:03:58.918229Z",
     "start_time": "2022-04-05T18:03:58.914192Z"
    }
   },
   "outputs": [],
   "source": [
    "df.shape"
   ]
  },
  {
   "cell_type": "code",
   "execution_count": null,
   "id": "49c799ce",
   "metadata": {
    "ExecuteTime": {
     "end_time": "2022-04-05T18:03:59.067255Z",
     "start_time": "2022-04-05T18:03:59.061335Z"
    }
   },
   "outputs": [],
   "source": [
    "df_filtro = df.loc[~df.var_faturamento.isna()]"
   ]
  },
  {
   "cell_type": "code",
   "execution_count": null,
   "id": "371f5e7a",
   "metadata": {
    "ExecuteTime": {
     "end_time": "2022-04-05T18:03:59.334893Z",
     "start_time": "2022-04-05T18:03:59.330825Z"
    }
   },
   "outputs": [],
   "source": [
    "df_filtro.shape"
   ]
  },
  {
   "cell_type": "code",
   "execution_count": null,
   "id": "74f57143",
   "metadata": {
    "ExecuteTime": {
     "end_time": "2022-04-05T18:03:59.542030Z",
     "start_time": "2022-04-05T18:03:59.511228Z"
    }
   },
   "outputs": [],
   "source": [
    "df_filtro.head() "
   ]
  },
  {
   "cell_type": "code",
   "execution_count": null,
   "id": "a4a66a7d",
   "metadata": {
    "ExecuteTime": {
     "end_time": "2022-04-05T18:03:59.808829Z",
     "start_time": "2022-04-05T18:03:59.804653Z"
    }
   },
   "outputs": [],
   "source": [
    "df_filtro.columns.to_list()"
   ]
  },
  {
   "cell_type": "code",
   "execution_count": null,
   "id": "0c3287b0",
   "metadata": {
    "ExecuteTime": {
     "end_time": "2022-04-05T18:03:59.921464Z",
     "start_time": "2022-04-05T18:03:59.918037Z"
    }
   },
   "outputs": [],
   "source": [
    "col_to_anl = ['estado_de_origem',\n",
    "              \n",
    "              #'custos_materias_prima',\n",
    "              #'custos_com_pessoal',\n",
    "              #'custos_com_aluguel',\n",
    "              #'custos_com_impostos',\n",
    "              #'custos_emprestimos_dividas',\n",
    "              'numero_pessoas_ocupadas',\n",
    "              \n",
    "              'acao_expandiu_vendas_online',\n",
    "              'acao_ampliou_presenca_digital',\n",
    "              'acao_expandiu_meios_entrega',\n",
    "              \n",
    "              'acao_reducao_horario_trabalho',\n",
    "              'acao_revezamento_equipe',\n",
    "              \n",
    "              'acao_ferias_funcionarios',\n",
    "              'acao_demitiu_funcionarios',\n",
    "              \n",
    "              'acao_fechou_temporariarmente_empresa',\n",
    "              'acao_fechou_permanentemente_empresa',\n",
    "              \n",
    "              'porte_da_empresa',\n",
    "              'setor_atividade',\n",
    "              'tempo_atividade',\n",
    "              'ramo_atuacao',\n",
    "              \n",
    "              'media_faturamento',\n",
    "              'idade',\n",
    "              'escolaridade'\n",
    "             ]"
   ]
  },
  {
   "cell_type": "code",
   "execution_count": null,
   "id": "4a299818",
   "metadata": {
    "ExecuteTime": {
     "end_time": "2022-04-05T18:04:00.217465Z",
     "start_time": "2022-04-05T18:04:00.096900Z"
    },
    "scrolled": false
   },
   "outputs": [],
   "source": [
    "for val in col_to_anl:\n",
    "    print('-------------------------------------------------------------------------')\n",
    "    print('')\n",
    "    print(f'Variável: {val}')\n",
    "    display(df_filtro[val].value_counts(normalize=True))\n",
    "    print('')\n",
    "    print('-------------------------------------------------------------------------')"
   ]
  },
  {
   "cell_type": "code",
   "execution_count": null,
   "id": "dcf44be3",
   "metadata": {
    "ExecuteTime": {
     "end_time": "2022-04-05T18:04:00.262122Z",
     "start_time": "2022-04-05T18:04:00.231364Z"
    }
   },
   "outputs": [],
   "source": [
    "df_filtro.head()"
   ]
  },
  {
   "cell_type": "code",
   "execution_count": null,
   "id": "4b252241",
   "metadata": {
    "ExecuteTime": {
     "end_time": "2022-04-05T18:04:00.376289Z",
     "start_time": "2022-04-05T18:04:00.372901Z"
    }
   },
   "outputs": [],
   "source": [
    "X = ['estado_de_origem',             \n",
    "     'numero_pessoas_ocupadas',         \n",
    "     \n",
    "     'acao_expandiu_vendas_online',\n",
    "     'acao_ampliou_presenca_digital',\n",
    "     'acao_expandiu_meios_entrega',\n",
    "              \n",
    "     'acao_reducao_horario_trabalho',\n",
    "     'acao_revezamento_equipe',\n",
    "              \n",
    "     'acao_ferias_funcionarios',\n",
    "     'acao_demitiu_funcionarios',\n",
    "              \n",
    "     'acao_fechou_temporariarmente_empresa',\n",
    "     'acao_fechou_permanentemente_empresa',\n",
    "              \n",
    "     'porte_da_empresa',\n",
    "     'setor_atividade',\n",
    "     'tempo_atividade',\n",
    "     'ramo_atuacao',\n",
    "              \n",
    "     'media_faturamento',\n",
    "     'idade',\n",
    "     'escolaridade'\n",
    "             ]\n",
    "Y = ['var_faturamento'] # variavel dependente"
   ]
  },
  {
   "cell_type": "code",
   "execution_count": null,
   "id": "7f16eae6",
   "metadata": {
    "ExecuteTime": {
     "end_time": "2022-04-05T18:04:00.514389Z",
     "start_time": "2022-04-05T18:04:00.511788Z"
    }
   },
   "outputs": [],
   "source": [
    "vars_to_trans = [\n",
    "     'acao_expandiu_vendas_online',\n",
    "     'acao_ampliou_presenca_digital',\n",
    "     'acao_expandiu_meios_entrega',\n",
    "              \n",
    "     'acao_reducao_horario_trabalho',\n",
    "     'acao_revezamento_equipe',\n",
    "              \n",
    "     'acao_ferias_funcionarios',\n",
    "     'acao_demitiu_funcionarios',\n",
    "              \n",
    "     'acao_fechou_temporariarmente_empresa',\n",
    "     'acao_fechou_permanentemente_empresa',\n",
    "\n",
    "\n",
    "    ]"
   ]
  },
  {
   "cell_type": "code",
   "execution_count": null,
   "id": "495bb89d",
   "metadata": {
    "ExecuteTime": {
     "end_time": "2022-04-05T18:04:00.688196Z",
     "start_time": "2022-04-05T18:04:00.646670Z"
    }
   },
   "outputs": [],
   "source": [
    "for col in vars_to_trans:\n",
    "    df_filtro.loc[~df_filtro[col].isnull(), col] = 1\n",
    "    df_filtro[col].fillna(0, inplace=True)"
   ]
  },
  {
   "cell_type": "code",
   "execution_count": null,
   "id": "879283b3",
   "metadata": {
    "ExecuteTime": {
     "end_time": "2022-04-05T18:04:01.428951Z",
     "start_time": "2022-04-05T18:04:01.425609Z"
    }
   },
   "outputs": [],
   "source": [
    "df_filtro.numero_pessoas_ocupadas.fillna(0, inplace=True)\n",
    "df_filtro.numero_pessoas_ocupadas = \\\n",
    "df_filtro.numero_pessoas_ocupadas.astype(int)"
   ]
  },
  {
   "cell_type": "code",
   "execution_count": null,
   "id": "3401e7e4",
   "metadata": {
    "ExecuteTime": {
     "end_time": "2022-04-05T18:04:02.007985Z",
     "start_time": "2022-04-05T18:04:01.984678Z"
    },
    "scrolled": false
   },
   "outputs": [],
   "source": [
    "df_filtro.head() "
   ]
  },
  {
   "cell_type": "code",
   "execution_count": null,
   "id": "6b587c56",
   "metadata": {
    "ExecuteTime": {
     "end_time": "2022-04-05T18:04:02.327331Z",
     "start_time": "2022-04-05T18:04:02.323463Z"
    }
   },
   "outputs": [],
   "source": [
    "df_filtro.respondent_id.nunique()"
   ]
  },
  {
   "cell_type": "code",
   "execution_count": null,
   "id": "a0262bad",
   "metadata": {
    "ExecuteTime": {
     "end_time": "2022-04-05T18:04:02.733564Z",
     "start_time": "2022-04-05T18:04:02.730095Z"
    }
   },
   "outputs": [],
   "source": [
    "df_filtro.shape"
   ]
  },
  {
   "cell_type": "code",
   "execution_count": null,
   "id": "c5bc1640",
   "metadata": {
    "ExecuteTime": {
     "end_time": "2022-04-05T18:04:03.067490Z",
     "start_time": "2022-04-05T18:04:03.065416Z"
    }
   },
   "outputs": [],
   "source": [
    "df = df_filtro"
   ]
  },
  {
   "cell_type": "markdown",
   "id": "05cbc65c",
   "metadata": {},
   "source": [
    "# Análise de Variáveis"
   ]
  },
  {
   "cell_type": "markdown",
   "id": "94d79d2c",
   "metadata": {},
   "source": [
    "## Variação de Faturamento "
   ]
  },
  {
   "cell_type": "code",
   "execution_count": null,
   "id": "d08e8422",
   "metadata": {
    "ExecuteTime": {
     "end_time": "2022-04-05T18:04:04.294206Z",
     "start_time": "2022-04-05T18:04:04.057394Z"
    }
   },
   "outputs": [],
   "source": [
    "fig, ax = plt.subplots(figsize=(10,8));\n",
    "sns.histplot(df_filtro.var_faturamento);\n",
    "plt.show()"
   ]
  },
  {
   "cell_type": "code",
   "execution_count": null,
   "id": "a50d7400",
   "metadata": {
    "ExecuteTime": {
     "end_time": "2022-04-05T18:04:04.513977Z",
     "start_time": "2022-04-05T18:04:04.507051Z"
    }
   },
   "outputs": [],
   "source": [
    "df_filtro.var_faturamento.describe(percentiles=[.2, .3,.4 ,.5, .7,.8, .85,.9, .95, .97])"
   ]
  },
  {
   "cell_type": "markdown",
   "id": "074e051b",
   "metadata": {},
   "source": [
    "## Número de Pessoas Ocupadas"
   ]
  },
  {
   "cell_type": "code",
   "execution_count": null,
   "id": "ed566ffe",
   "metadata": {
    "ExecuteTime": {
     "end_time": "2022-04-05T18:04:05.341392Z",
     "start_time": "2022-04-05T18:04:05.338674Z"
    }
   },
   "outputs": [],
   "source": [
    "df_filtro.numero_pessoas_ocupadas.fillna(0, inplace=True)"
   ]
  },
  {
   "cell_type": "code",
   "execution_count": null,
   "id": "bde9b0d1",
   "metadata": {
    "ExecuteTime": {
     "end_time": "2022-04-05T18:04:05.747491Z",
     "start_time": "2022-04-05T18:04:05.743439Z"
    }
   },
   "outputs": [],
   "source": [
    "df_filtro.numero_pessoas_ocupadas.isna().sum() # verificando se existe valores nulos"
   ]
  },
  {
   "cell_type": "code",
   "execution_count": null,
   "id": "71a37956",
   "metadata": {
    "ExecuteTime": {
     "end_time": "2022-04-05T18:04:06.329525Z",
     "start_time": "2022-04-05T18:04:06.131771Z"
    }
   },
   "outputs": [],
   "source": [
    "fig, ax = plt.subplots(figsize=(10,8));\n",
    "sns.histplot(df_filtro.numero_pessoas_ocupadas, bins=50);\n",
    "plt.show()"
   ]
  },
  {
   "cell_type": "code",
   "execution_count": null,
   "id": "801fbf6f",
   "metadata": {
    "ExecuteTime": {
     "end_time": "2022-04-05T18:04:06.714171Z",
     "start_time": "2022-04-05T18:04:06.508218Z"
    }
   },
   "outputs": [],
   "source": [
    "fig, ax = plt.subplots(figsize=(10,8));\n",
    "sns.histplot(df_filtro.loc[df_filtro.numero_pessoas_ocupadas<=40, 'numero_pessoas_ocupadas'], bins=50);\n",
    "plt.show()"
   ]
  },
  {
   "cell_type": "code",
   "execution_count": null,
   "id": "ae766564",
   "metadata": {
    "ExecuteTime": {
     "end_time": "2022-04-05T18:04:06.898912Z",
     "start_time": "2022-04-05T18:04:06.891966Z"
    }
   },
   "outputs": [],
   "source": [
    "df_filtro.numero_pessoas_ocupadas.describe(percentiles=[.2, .3, .5, .7, .9, .95])"
   ]
  },
  {
   "cell_type": "code",
   "execution_count": null,
   "id": "9337e0c8",
   "metadata": {
    "ExecuteTime": {
     "end_time": "2022-04-05T18:04:07.079319Z",
     "start_time": "2022-04-05T18:04:07.071402Z"
    }
   },
   "outputs": [],
   "source": [
    "df_filtro.loc[df_filtro.numero_pessoas_ocupadas<=40, 'numero_pessoas_ocupadas']\\\n",
    ".describe(percentiles=[.2, .3, .5, .7, .9, .95])\n"
   ]
  },
  {
   "cell_type": "code",
   "execution_count": null,
   "id": "56aa7b51",
   "metadata": {
    "ExecuteTime": {
     "end_time": "2022-04-05T18:04:08.156177Z",
     "start_time": "2022-04-05T18:04:07.266131Z"
    }
   },
   "outputs": [],
   "source": [
    "sns.jointplot(data=df_filtro.loc[df_filtro.numero_pessoas_ocupadas<=40], \n",
    "              x='numero_pessoas_ocupadas', \n",
    "              y='var_faturamento', \n",
    "              kind=\"reg\", \n",
    "              height=10);"
   ]
  },
  {
   "cell_type": "markdown",
   "id": "33504b4f",
   "metadata": {},
   "source": [
    "## Modo de Funcionamento das Empresas"
   ]
  },
  {
   "cell_type": "code",
   "execution_count": null,
   "id": "6316ac7e",
   "metadata": {
    "ExecuteTime": {
     "end_time": "2022-04-05T18:04:08.426305Z",
     "start_time": "2022-04-05T18:04:08.158783Z"
    },
    "scrolled": false
   },
   "outputs": [],
   "source": [
    "for col in [\n",
    "     'acao_fechou_temporariarmente_empresa',\n",
    "    ]:\n",
    "    display(df_filtro.groupby(col).agg({'var_faturamento':'mean'}))\n",
    "    df_filtro.groupby(col).agg({'var_faturamento':'mean'}).plot.bar()\n",
    "    plt.show()"
   ]
  },
  {
   "cell_type": "markdown",
   "id": "660a7c46",
   "metadata": {},
   "source": [
    "## Ações feitas - Vendas da empresa"
   ]
  },
  {
   "cell_type": "code",
   "execution_count": null,
   "id": "b9fd3960",
   "metadata": {
    "ExecuteTime": {
     "end_time": "2022-04-05T18:04:13.491475Z",
     "start_time": "2022-04-05T18:04:12.833298Z"
    },
    "scrolled": false
   },
   "outputs": [],
   "source": [
    "for col in [\n",
    "     'acao_expandiu_vendas_online',\n",
    "     'acao_ampliou_presenca_digital',\n",
    "     'acao_expandiu_meios_entrega',\n",
    "    ]:\n",
    "    \n",
    "    display(df_filtro.groupby(col).agg({'var_faturamento':'mean'}))\n",
    "    display(df_filtro[col].value_counts(normalize=True))\n",
    "    df_filtro.groupby(col).agg({'var_faturamento':'mean'}).plot.bar()\n",
    "    plt.show()"
   ]
  },
  {
   "cell_type": "markdown",
   "id": "3454b897",
   "metadata": {},
   "source": [
    "## Ações feitas - Funcionários"
   ]
  },
  {
   "cell_type": "code",
   "execution_count": null,
   "id": "e675e37c",
   "metadata": {
    "ExecuteTime": {
     "end_time": "2022-04-05T18:04:13.491475Z",
     "start_time": "2022-04-05T18:04:12.833298Z"
    },
    "scrolled": false
   },
   "outputs": [],
   "source": [
    "for col in [\n",
    "     'acao_reducao_horario_trabalho',\n",
    "     'acao_revezamento_equipe',\n",
    "              \n",
    "     'acao_ferias_funcionarios',\n",
    "     'acao_demitiu_funcionarios',\n",
    "    ]:\n",
    "    \n",
    "    display(df_filtro.groupby(col).agg({'var_faturamento':'mean'}))\n",
    "    display(df_filtro[col].value_counts(normalize=True))\n",
    "    df_filtro.groupby(col).agg({'var_faturamento':'mean'}).plot.bar()\n",
    "    plt.show()"
   ]
  },
  {
   "cell_type": "markdown",
   "id": "fa9be52a",
   "metadata": {},
   "source": [
    "## Estado de Origem"
   ]
  },
  {
   "cell_type": "code",
   "execution_count": null,
   "id": "c199558e",
   "metadata": {
    "ExecuteTime": {
     "end_time": "2022-04-05T18:05:00.072580Z",
     "start_time": "2022-04-05T18:04:59.845657Z"
    }
   },
   "outputs": [],
   "source": [
    "display(df_filtro.groupby('estado_de_origem').agg({'var_faturamento':'mean'}).sort_values(by='var_faturamento', ascending=False))\n",
    "df_filtro.groupby('estado_de_origem').agg({'var_faturamento':'mean'}).plot.bar()\n",
    "plt.show()"
   ]
  },
  {
   "cell_type": "markdown",
   "id": "3719f7f1",
   "metadata": {},
   "source": [
    "## Porte da Empresa"
   ]
  },
  {
   "cell_type": "code",
   "execution_count": null,
   "id": "ccae7ef0",
   "metadata": {
    "ExecuteTime": {
     "end_time": "2022-04-05T18:05:01.401801Z",
     "start_time": "2022-04-05T18:05:01.397697Z"
    }
   },
   "outputs": [],
   "source": [
    "df_filtro.porte_da_empresa.isna().sum()"
   ]
  },
  {
   "cell_type": "code",
   "execution_count": null,
   "id": "e2314b7f",
   "metadata": {
    "ExecuteTime": {
     "end_time": "2022-04-05T18:05:01.919834Z",
     "start_time": "2022-04-05T18:05:01.915228Z"
    }
   },
   "outputs": [],
   "source": [
    "df_filtro.loc[df_filtro.porte_da_empresa.isna(), 'var_faturamento'].mean()"
   ]
  },
  {
   "cell_type": "code",
   "execution_count": null,
   "id": "480a4c9f",
   "metadata": {
    "ExecuteTime": {
     "end_time": "2022-04-05T18:05:14.431641Z",
     "start_time": "2022-04-05T18:05:14.428387Z"
    }
   },
   "outputs": [],
   "source": [
    "df_filtro.porte_da_empresa.fillna('ME', inplace=True)"
   ]
  },
  {
   "cell_type": "code",
   "execution_count": null,
   "id": "fc141507",
   "metadata": {
    "ExecuteTime": {
     "end_time": "2022-04-05T18:05:17.726620Z",
     "start_time": "2022-04-05T18:05:17.441848Z"
    }
   },
   "outputs": [],
   "source": [
    "display(df_filtro.groupby('porte_da_empresa').agg({'var_faturamento':'mean'}).sort_values(by='var_faturamento', ascending=False))\n",
    "df_filtro.groupby('porte_da_empresa').agg({'var_faturamento':'mean'}).plot.bar()\n",
    "plt.show()"
   ]
  },
  {
   "cell_type": "markdown",
   "id": "cc2272e6",
   "metadata": {},
   "source": [
    "## Setor de Atividade da Empresa"
   ]
  },
  {
   "cell_type": "code",
   "execution_count": null,
   "id": "5091ab47",
   "metadata": {
    "ExecuteTime": {
     "end_time": "2022-04-05T18:05:24.174508Z",
     "start_time": "2022-04-05T18:05:24.169788Z"
    }
   },
   "outputs": [],
   "source": [
    "df_filtro.setor_atividade.isna().sum()/df_filtro.shape[0]"
   ]
  },
  {
   "cell_type": "code",
   "execution_count": null,
   "id": "74320e80",
   "metadata": {
    "ExecuteTime": {
     "end_time": "2022-04-05T18:05:25.114174Z",
     "start_time": "2022-04-05T18:05:24.988513Z"
    }
   },
   "outputs": [],
   "source": [
    "display(df_filtro.groupby('setor_atividade').agg({'var_faturamento':'mean'}).sort_values(by='var_faturamento', ascending=False))\n",
    "df_filtro.groupby('setor_atividade').agg({'var_faturamento':'mean'}).plot.bar()\n",
    "plt.show()"
   ]
  },
  {
   "cell_type": "markdown",
   "id": "c6e2fedf",
   "metadata": {},
   "source": [
    "## Tempo de Atividade"
   ]
  },
  {
   "cell_type": "code",
   "execution_count": null,
   "id": "b440cc08",
   "metadata": {
    "ExecuteTime": {
     "end_time": "2022-04-05T18:05:28.569609Z",
     "start_time": "2022-04-05T18:05:28.565429Z"
    }
   },
   "outputs": [],
   "source": [
    "df_filtro.tempo_atividade.isna().sum()"
   ]
  },
  {
   "cell_type": "code",
   "execution_count": null,
   "id": "4b3a01ed",
   "metadata": {
    "ExecuteTime": {
     "end_time": "2022-04-05T18:05:29.692764Z",
     "start_time": "2022-04-05T18:05:29.558437Z"
    }
   },
   "outputs": [],
   "source": [
    "display(df_filtro.groupby('tempo_atividade').agg({'var_faturamento':'mean'}).sort_values(by='var_faturamento', ascending=False))\n",
    "df_filtro.groupby('tempo_atividade').agg({'var_faturamento':'mean'}).plot.bar()\n",
    "plt.show()"
   ]
  },
  {
   "cell_type": "markdown",
   "id": "2485df6b",
   "metadata": {},
   "source": [
    "## Ramo de Atuação da Empresa"
   ]
  },
  {
   "cell_type": "code",
   "execution_count": null,
   "id": "beea8d7e",
   "metadata": {
    "ExecuteTime": {
     "end_time": "2022-04-05T18:05:32.599166Z",
     "start_time": "2022-04-05T18:05:32.594937Z"
    }
   },
   "outputs": [],
   "source": [
    "df_filtro.ramo_atuacao.isna().sum()"
   ]
  },
  {
   "cell_type": "code",
   "execution_count": null,
   "id": "2acc8b3c",
   "metadata": {
    "ExecuteTime": {
     "end_time": "2022-04-05T18:05:32.981956Z",
     "start_time": "2022-04-05T18:05:32.977573Z"
    }
   },
   "outputs": [],
   "source": [
    "df_filtro.ramo_atuacao_outros.isna().sum()"
   ]
  },
  {
   "cell_type": "code",
   "execution_count": null,
   "id": "73f41a42",
   "metadata": {
    "ExecuteTime": {
     "end_time": "2022-04-05T18:05:36.997213Z",
     "start_time": "2022-04-05T18:05:36.726503Z"
    }
   },
   "outputs": [],
   "source": [
    "display(df_filtro.groupby('ramo_atuacao').agg({'var_faturamento':'mean'}).sort_values(by='var_faturamento', ascending=False))\n",
    "df_filtro.groupby('ramo_atuacao').agg({'var_faturamento':'mean'}).plot.bar()\n",
    "plt.show()"
   ]
  },
  {
   "cell_type": "markdown",
   "id": "3fc1c319",
   "metadata": {},
   "source": [
    "## Faturamento Médio Mensal da Empresa"
   ]
  },
  {
   "cell_type": "code",
   "execution_count": null,
   "id": "d91bea6a",
   "metadata": {
    "ExecuteTime": {
     "end_time": "2022-04-05T18:05:41.600768Z",
     "start_time": "2022-04-05T18:05:41.596537Z"
    }
   },
   "outputs": [],
   "source": [
    "df_filtro.media_faturamento.isna().sum()"
   ]
  },
  {
   "cell_type": "code",
   "execution_count": null,
   "id": "fd2d8865",
   "metadata": {
    "ExecuteTime": {
     "end_time": "2022-04-05T18:05:42.389190Z",
     "start_time": "2022-04-05T18:05:42.227112Z"
    }
   },
   "outputs": [],
   "source": [
    "display(df_filtro.groupby('media_faturamento').agg({'var_faturamento':'mean'}).sort_values(by='var_faturamento', ascending=False))\n",
    "df_filtro.groupby('media_faturamento').agg({'var_faturamento':'mean'}).plot.bar()\n",
    "plt.show()"
   ]
  },
  {
   "cell_type": "markdown",
   "id": "da7f232e",
   "metadata": {},
   "source": [
    "## Idade do Empresário"
   ]
  },
  {
   "cell_type": "code",
   "execution_count": null,
   "id": "7ab9e0b8",
   "metadata": {
    "ExecuteTime": {
     "end_time": "2022-04-05T18:05:44.026300Z",
     "start_time": "2022-04-05T18:05:44.022452Z"
    }
   },
   "outputs": [],
   "source": [
    "df_filtro.idade.isna().sum()"
   ]
  },
  {
   "cell_type": "code",
   "execution_count": null,
   "id": "3f11f838",
   "metadata": {
    "ExecuteTime": {
     "end_time": "2022-04-05T18:05:44.717776Z",
     "start_time": "2022-04-05T18:05:44.499669Z"
    }
   },
   "outputs": [],
   "source": [
    "display(df_filtro.groupby('idade').agg({'var_faturamento':'mean'}).sort_values(by='var_faturamento', ascending=False))\n",
    "df_filtro.groupby('idade').agg({'var_faturamento':'mean'}).plot.bar()\n",
    "plt.show()"
   ]
  },
  {
   "cell_type": "markdown",
   "id": "7c5bb84a",
   "metadata": {},
   "source": [
    "## Escolaridade do Empresário"
   ]
  },
  {
   "cell_type": "code",
   "execution_count": null,
   "id": "e7387c5a",
   "metadata": {
    "ExecuteTime": {
     "end_time": "2022-04-05T18:05:45.739614Z",
     "start_time": "2022-04-05T18:05:45.735405Z"
    }
   },
   "outputs": [],
   "source": [
    "df_filtro.escolaridade.isna().sum()"
   ]
  },
  {
   "cell_type": "code",
   "execution_count": null,
   "id": "cdefed77",
   "metadata": {
    "ExecuteTime": {
     "end_time": "2022-04-05T18:05:46.403543Z",
     "start_time": "2022-04-05T18:05:46.253477Z"
    }
   },
   "outputs": [],
   "source": [
    "display(df_filtro.groupby('escolaridade').agg({'var_faturamento':'mean'}).sort_values(by='var_faturamento', ascending=False))\n",
    "df_filtro.groupby('escolaridade').agg({'var_faturamento':'mean'}).plot.bar()\n",
    "plt.show()"
   ]
  },
  {
   "cell_type": "markdown",
   "id": "15f2bcaa",
   "metadata": {},
   "source": [
    "# Variáveis para modelagem"
   ]
  },
  {
   "cell_type": "code",
   "execution_count": null,
   "id": "65710807",
   "metadata": {},
   "outputs": [],
   "source": [
    "X = ['numero_pessoas_ocupadas',\n",
    "     'acao_fechou_temporariarmente_empresa',\n",
    "     'acao_expandiu_vendas_online',\n",
    "     'acao_ampliou_presenca_digital',\n",
    "     'acao_expandiu_meios_entrega',\n",
    "     'estado_de_origem',\n",
    "     'porte_da_empresa',\n",
    "     'ramo_atuacao',\n",
    "     'media_faturamento',\n",
    "     'idade'\n",
    "     ]"
   ]
  },
  {
   "cell_type": "markdown",
   "id": "a217611c",
   "metadata": {},
   "source": [
    "# Definição da Variável Resposta"
   ]
  },
  {
   "cell_type": "markdown",
   "id": "87a7695b",
   "metadata": {},
   "source": [
    "Explicacao da definição do que é uma empresa \"boa\" (target = 1)"
   ]
  },
  {
   "cell_type": "code",
   "execution_count": null,
   "id": "baf3c769",
   "metadata": {
    "ExecuteTime": {
     "end_time": "2022-04-05T18:06:18.724233Z",
     "start_time": "2022-04-05T18:06:18.719442Z"
    }
   },
   "outputs": [],
   "source": [
    "#df.loc[df.var_faturamento >= -40, 'target'] = 1\n",
    "df.loc[df.var_faturamento >= 0, 'target'] = 1\n",
    "df.target.fillna(0, inplace=True)"
   ]
  },
  {
   "cell_type": "markdown",
   "id": "5525d581",
   "metadata": {},
   "source": [
    "# Análise Bivariada"
   ]
  },
  {
   "cell_type": "markdown",
   "id": "a87eae8e",
   "metadata": {},
   "source": [
    "Analise das variaveis x o target (empresas boas)"
   ]
  },
  {
   "cell_type": "markdown",
   "id": "f58e95c6",
   "metadata": {},
   "source": [
    "## Idade"
   ]
  },
  {
   "cell_type": "code",
   "execution_count": null,
   "id": "f1095748",
   "metadata": {
    "ExecuteTime": {
     "end_time": "2022-04-05T18:06:20.838229Z",
     "start_time": "2022-04-05T18:06:20.578584Z"
    }
   },
   "outputs": [],
   "source": [
    "analise_cat_1(df=df, var='idade' , y='target', num=False, );"
   ]
  },
  {
   "cell_type": "markdown",
   "id": "ffcc0d36",
   "metadata": {},
   "source": [
    "## Média de faturamento mensal"
   ]
  },
  {
   "cell_type": "markdown",
   "id": "851f0dd1",
   "metadata": {},
   "source": [
    "Essa variavel não está sentido, era esperado que empresas com um faturamento mensal maior tivessem uma taxa maior de empresas boas, isso não é verificado aqui"
   ]
  },
  {
   "cell_type": "code",
   "execution_count": null,
   "id": "6c58add3",
   "metadata": {
    "ExecuteTime": {
     "end_time": "2022-04-05T18:06:27.137791Z",
     "start_time": "2022-04-05T18:06:26.879139Z"
    }
   },
   "outputs": [],
   "source": [
    "analise_cat_1(df=df, var='media_faturamento' , y='target', num=False, );"
   ]
  },
  {
   "cell_type": "code",
   "execution_count": null,
   "id": "36487f6e",
   "metadata": {
    "ExecuteTime": {
     "end_time": "2022-04-05T18:06:27.808079Z",
     "start_time": "2022-04-05T18:06:27.798539Z"
    }
   },
   "outputs": [],
   "source": [
    "\n",
    "df.loc[df.media_faturamento=='Até 6 mil por mês', 'media_faturamento_mes'] = '1 - Até 6 mil por mês'\n",
    "df.loc[ (df.media_faturamento=='De 7 a 15 mil por mês')\\\n",
    "       | (df.media_faturamento=='De 16 a 30 mil por mês')\\\n",
    "       | (df.media_faturamento=='De 31 a 60 mil por mês'), 'media_faturamento_mes'] = '2 - de 6 a 60 mil por mês'\n",
    "df.loc[(df.media_faturamento=='De 60 a 100 mil por mês')\\\n",
    "       | (df.media_faturamento=='Prefiro não responder'), 'media_faturamento_mes'] = '3 - de 60 a 100 mil por mês'\n",
    "df.loc[(df.media_faturamento=='De 100 mil a 200 mil')\\\n",
    "       | (df.media_faturamento=='Acima de 200 mil'), 'media_faturamento_mes'] = '4 - Acima de 100 mil por mês'\n",
    "df.loc[(df.media_faturamento=='Não sei/não quero informar'), 'media_faturamento_mes'] = '5 - Não sabe'\n",
    "\n"
   ]
  },
  {
   "cell_type": "code",
   "execution_count": null,
   "id": "d41f7364",
   "metadata": {
    "ExecuteTime": {
     "end_time": "2022-04-05T18:06:28.820845Z",
     "start_time": "2022-04-05T18:06:28.586808Z"
    }
   },
   "outputs": [],
   "source": [
    "_, _, s_faturamento =  analise_cat_1(df=df, var='media_faturamento_mes' , y='target', num=False, );"
   ]
  },
  {
   "cell_type": "code",
   "execution_count": null,
   "id": "d2baa171",
   "metadata": {
    "ExecuteTime": {
     "end_time": "2022-04-05T18:06:30.510583Z",
     "start_time": "2022-04-05T18:06:29.983456Z"
    }
   },
   "outputs": [],
   "source": [
    "df['faturamento_mensal_woe'] = df.apply(create_woe, axis=1, args=('media_faturamento_mes', s_faturamento))"
   ]
  },
  {
   "cell_type": "code",
   "execution_count": null,
   "id": "7a516c9a",
   "metadata": {
    "ExecuteTime": {
     "end_time": "2022-04-05T18:06:30.781907Z",
     "start_time": "2022-04-05T18:06:30.513151Z"
    }
   },
   "outputs": [],
   "source": [
    "analise_cat_1(df=df, var='faturamento_mensal_woe' , y='target', num=True, q2=20);"
   ]
  },
  {
   "cell_type": "markdown",
   "id": "befeae42",
   "metadata": {},
   "source": [
    "## Ramo de atuação"
   ]
  },
  {
   "cell_type": "code",
   "execution_count": null,
   "id": "9fc60fcc",
   "metadata": {
    "ExecuteTime": {
     "end_time": "2022-04-05T18:06:35.597884Z",
     "start_time": "2022-04-05T18:06:35.089990Z"
    },
    "scrolled": false
   },
   "outputs": [],
   "source": [
    "_, _, s_ramo_atuacao = analise_cat_1(df=df, var='ramo_atuacao' , y='target', num=False, );"
   ]
  },
  {
   "cell_type": "code",
   "execution_count": null,
   "id": "e1274e19",
   "metadata": {
    "ExecuteTime": {
     "end_time": "2022-04-05T18:06:35.984195Z",
     "start_time": "2022-04-05T18:06:35.969317Z"
    }
   },
   "outputs": [],
   "source": [
    "s_ramo_atuacao.sort_values(by='WoE')"
   ]
  },
  {
   "cell_type": "code",
   "execution_count": null,
   "id": "e99bb04a",
   "metadata": {
    "ExecuteTime": {
     "end_time": "2022-04-05T18:06:37.248488Z",
     "start_time": "2022-04-05T18:06:36.732984Z"
    }
   },
   "outputs": [],
   "source": [
    "df['ramo_atuacao_woe'] = df.apply(create_woe, axis=1, args=('ramo_atuacao', s_ramo_atuacao))"
   ]
  },
  {
   "cell_type": "code",
   "execution_count": null,
   "id": "8e69d3f7",
   "metadata": {
    "ExecuteTime": {
     "end_time": "2022-04-05T18:06:37.254699Z",
     "start_time": "2022-04-05T18:06:37.250377Z"
    }
   },
   "outputs": [],
   "source": [
    "df['ramo_atuacao_woe'].unique()"
   ]
  },
  {
   "cell_type": "code",
   "execution_count": null,
   "id": "60bf11e8",
   "metadata": {
    "ExecuteTime": {
     "end_time": "2022-04-05T18:06:37.432645Z",
     "start_time": "2022-04-05T18:06:37.429240Z"
    }
   },
   "outputs": [],
   "source": [
    "df.loc[df['ramo_atuacao_woe'] == -np.inf, 'ramo_atuacao_woe'] = -100"
   ]
  },
  {
   "cell_type": "code",
   "execution_count": null,
   "id": "0587da66",
   "metadata": {
    "ExecuteTime": {
     "end_time": "2022-04-05T18:06:38.348338Z",
     "start_time": "2022-04-05T18:06:38.105510Z"
    }
   },
   "outputs": [],
   "source": [
    "analise_cat_1(df=df, var='ramo_atuacao_woe' , y='target', num=True, );"
   ]
  },
  {
   "cell_type": "markdown",
   "id": "49a854f5",
   "metadata": {},
   "source": [
    "## Estado de Origem"
   ]
  },
  {
   "cell_type": "code",
   "execution_count": null,
   "id": "bddfc7a8",
   "metadata": {
    "ExecuteTime": {
     "end_time": "2022-04-05T18:06:39.631923Z",
     "start_time": "2022-04-05T18:06:39.252652Z"
    },
    "scrolled": false
   },
   "outputs": [],
   "source": [
    "_, _, s_estado = analise_cat_1(df=df, var='estado_de_origem' , y='target', num=False, );"
   ]
  },
  {
   "cell_type": "code",
   "execution_count": null,
   "id": "da4d3b6c",
   "metadata": {
    "ExecuteTime": {
     "end_time": "2022-04-05T18:06:40.547867Z",
     "start_time": "2022-04-05T18:06:40.040245Z"
    }
   },
   "outputs": [],
   "source": [
    "df['estado_origem_woe'] = df.apply(create_woe, axis=1, args=('estado_de_origem', s_estado))"
   ]
  },
  {
   "cell_type": "code",
   "execution_count": null,
   "id": "193ab590",
   "metadata": {
    "ExecuteTime": {
     "end_time": "2022-04-05T18:06:40.652438Z",
     "start_time": "2022-04-05T18:06:40.648769Z"
    }
   },
   "outputs": [],
   "source": [
    "df.loc[df['estado_origem_woe'] == -np.inf, 'estado_origem_woe'] = -1"
   ]
  },
  {
   "cell_type": "code",
   "execution_count": null,
   "id": "e5ddefa6",
   "metadata": {
    "ExecuteTime": {
     "end_time": "2022-04-05T18:06:41.311946Z",
     "start_time": "2022-04-05T18:06:41.053199Z"
    }
   },
   "outputs": [],
   "source": [
    "analise_cat_1(df=df, var='estado_origem_woe' , y='target', num=True, q2=5);"
   ]
  },
  {
   "cell_type": "markdown",
   "id": "8787d8f9",
   "metadata": {},
   "source": [
    "## Ações feitas - Vendas da empresa"
   ]
  },
  {
   "cell_type": "code",
   "execution_count": null,
   "id": "b61126e3",
   "metadata": {
    "ExecuteTime": {
     "end_time": "2022-04-05T18:06:43.124652Z",
     "start_time": "2022-04-05T18:06:43.122235Z"
    }
   },
   "outputs": [],
   "source": [
    "colunas = [     'acao_expandiu_vendas_online',\n",
    "     'acao_ampliou_presenca_digital',\n",
    "     'acao_expandiu_meios_entrega',\n",
    "]"
   ]
  },
  {
   "cell_type": "code",
   "execution_count": null,
   "id": "7756ec90",
   "metadata": {
    "ExecuteTime": {
     "end_time": "2022-04-05T18:06:44.600757Z",
     "start_time": "2022-04-05T18:06:43.551168Z"
    },
    "scrolled": false
   },
   "outputs": [],
   "source": [
    "call_analise_list(df, label='target',l=colunas, num=False)"
   ]
  },
  {
   "cell_type": "code",
   "execution_count": null,
   "id": "b9a4e931",
   "metadata": {
    "ExecuteTime": {
     "end_time": "2022-04-05T18:06:44.609398Z",
     "start_time": "2022-04-05T18:06:44.602826Z"
    }
   },
   "outputs": [],
   "source": [
    "df.loc[df.acao_expandiu_vendas_online==1, 'medidas_expansao_vendas'] = 1\n",
    "df.loc[df.acao_ampliou_presenca_digital==1, 'medidas_expansao_vendas'] = 1\n",
    "df.loc[df.acao_expandiu_meios_entrega==1, 'medidas_expansao_vendas'] = 1\n",
    "df.medidas_expansao_vendas.fillna(0, inplace=True)"
   ]
  },
  {
   "cell_type": "code",
   "execution_count": null,
   "id": "9a341dec",
   "metadata": {
    "ExecuteTime": {
     "end_time": "2022-04-05T18:06:45.918433Z",
     "start_time": "2022-04-05T18:06:45.687856Z"
    }
   },
   "outputs": [],
   "source": [
    "analise_cat_1(df=df, var='medidas_expansao_vendas' , y='target', num=False);"
   ]
  },
  {
   "cell_type": "markdown",
   "id": "8a5c5feb",
   "metadata": {},
   "source": [
    "## Funcionamento da empresa"
   ]
  },
  {
   "cell_type": "code",
   "execution_count": null,
   "id": "ea6b6cb0",
   "metadata": {
    "ExecuteTime": {
     "end_time": "2022-04-05T18:06:58.988083Z",
     "start_time": "2022-04-05T18:06:58.985902Z"
    }
   },
   "outputs": [],
   "source": [
    "colunas = [  'acao_fechou_temporariarmente_empresa',\n",
    "]"
   ]
  },
  {
   "cell_type": "code",
   "execution_count": null,
   "id": "446b5321",
   "metadata": {
    "ExecuteTime": {
     "end_time": "2022-04-05T18:07:00.367731Z",
     "start_time": "2022-04-05T18:06:59.897914Z"
    },
    "scrolled": false
   },
   "outputs": [],
   "source": [
    "call_analise_list(df, label='target',l=colunas, num=False)"
   ]
  },
  {
   "cell_type": "code",
   "execution_count": null,
   "id": "ac20f1eb",
   "metadata": {
    "ExecuteTime": {
     "end_time": "2022-04-05T18:07:34.114984Z",
     "start_time": "2022-04-05T18:07:34.108478Z"
    }
   },
   "outputs": [],
   "source": [
    "df.loc[df.acao_fechou_temporariarmente_empresa==1, 'nao_mudou_funcionamento_empresa_na_crise'] = 0\n",
    "df.loc[df.acao_fechou_temporariarmente_empresa==0, 'nao_mudou_funcionamento_empresa_na_crise'] = 1"
   ]
  },
  {
   "cell_type": "code",
   "execution_count": null,
   "id": "f1efa9a5",
   "metadata": {
    "ExecuteTime": {
     "end_time": "2022-04-05T18:07:34.833261Z",
     "start_time": "2022-04-05T18:07:34.603168Z"
    }
   },
   "outputs": [],
   "source": [
    "analise_cat_1(df=df, var='nao_mudou_funcionamento_empresa_na_crise' , y='target', num=False);"
   ]
  },
  {
   "cell_type": "markdown",
   "id": "2235c6de",
   "metadata": {},
   "source": [
    "## Número de pessoas ocupadas"
   ]
  },
  {
   "cell_type": "code",
   "execution_count": null,
   "id": "78116a29",
   "metadata": {
    "ExecuteTime": {
     "end_time": "2022-04-05T18:09:17.563947Z",
     "start_time": "2022-04-05T18:09:17.304916Z"
    }
   },
   "outputs": [],
   "source": [
    "analise_cat_1(df=df, var='numero_pessoas_ocupadas' , y='target', num=True, q2=10);"
   ]
  },
  {
   "cell_type": "markdown",
   "id": "e52c866b",
   "metadata": {},
   "source": [
    "## Porte de empresa"
   ]
  },
  {
   "cell_type": "code",
   "execution_count": null,
   "id": "078a04bb",
   "metadata": {
    "ExecuteTime": {
     "end_time": "2022-04-05T18:09:30.559595Z",
     "start_time": "2022-04-05T18:09:30.266186Z"
    }
   },
   "outputs": [],
   "source": [
    "analise_cat_1(df=df, var='porte_da_empresa' , y='target', num=False, q2=0);"
   ]
  },
  {
   "cell_type": "markdown",
   "id": "c17a19da",
   "metadata": {},
   "source": [
    "# Correlação entre as variáveis"
   ]
  },
  {
   "cell_type": "code",
   "execution_count": null,
   "id": "c9c94205",
   "metadata": {
    "ExecuteTime": {
     "end_time": "2022-04-05T18:10:42.765257Z",
     "start_time": "2022-04-05T18:10:42.762584Z"
    }
   },
   "outputs": [],
   "source": [
    "COLUMNS_SEL = [\n",
    "               'faturamento_mensal_woe'\n",
    "               ,'ramo_atuacao_woe'\n",
    "               ,'estado_origem_woe'\n",
    "               ,'medidas_expansao_vendas'\n",
    "               ,'nao_mudou_funcionamento_empresa_na_crise'\n",
    "               ,'numero_pessoas_ocupadas'\n",
    "               ,'porte_da_empresa'\n",
    "               ,'var_faturamento'\n",
    "              ]"
   ]
  },
  {
   "cell_type": "code",
   "execution_count": null,
   "id": "def39ec5",
   "metadata": {
    "ExecuteTime": {
     "end_time": "2022-04-05T18:10:43.181083Z",
     "start_time": "2022-04-05T18:10:43.166496Z"
    }
   },
   "outputs": [],
   "source": [
    "df[COLUMNS_SEL].head()"
   ]
  },
  {
   "cell_type": "code",
   "execution_count": null,
   "id": "e5801237",
   "metadata": {
    "ExecuteTime": {
     "end_time": "2022-04-05T18:10:46.619253Z",
     "start_time": "2022-04-05T18:10:46.610293Z"
    }
   },
   "outputs": [],
   "source": [
    "df_tratado = pd.get_dummies(df[COLUMNS_SEL])"
   ]
  },
  {
   "cell_type": "code",
   "execution_count": null,
   "id": "21be87c2",
   "metadata": {
    "ExecuteTime": {
     "end_time": "2022-04-05T18:10:46.872424Z",
     "start_time": "2022-04-05T18:10:46.858020Z"
    }
   },
   "outputs": [],
   "source": [
    "df_tratado.head()"
   ]
  },
  {
   "cell_type": "code",
   "execution_count": null,
   "id": "3d027982",
   "metadata": {
    "ExecuteTime": {
     "end_time": "2022-04-05T18:10:47.581326Z",
     "start_time": "2022-04-05T18:10:47.577676Z"
    }
   },
   "outputs": [],
   "source": [
    "df_tratado.columns.tolist()"
   ]
  },
  {
   "cell_type": "code",
   "execution_count": null,
   "id": "dbc2a5cd",
   "metadata": {
    "ExecuteTime": {
     "end_time": "2022-04-05T18:10:49.943696Z",
     "start_time": "2022-04-05T18:10:49.016058Z"
    }
   },
   "outputs": [],
   "source": [
    "plt.figure(figsize=(10,10))\n",
    "sns.heatmap(df_tratado.corr(), annot=True);\n",
    "plt.show()"
   ]
  },
  {
   "cell_type": "code",
   "execution_count": null,
   "id": "878fc6b5",
   "metadata": {
    "ExecuteTime": {
     "end_time": "2022-04-05T18:11:02.793635Z",
     "start_time": "2022-04-05T18:11:02.791432Z"
    }
   },
   "outputs": [],
   "source": [
    "VALS_TO_DROP =['porte_da_empresa_MEI'\n",
    "]"
   ]
  },
  {
   "cell_type": "code",
   "execution_count": null,
   "id": "0c5a4aa7",
   "metadata": {
    "ExecuteTime": {
     "end_time": "2022-04-05T18:11:04.047250Z",
     "start_time": "2022-04-05T18:11:03.307112Z"
    }
   },
   "outputs": [],
   "source": [
    "plt.figure(figsize=(10,10))\n",
    "sns.heatmap(df_tratado.drop(VALS_TO_DROP, axis=1).corr(), annot=True);\n",
    "plt.show()"
   ]
  },
  {
   "cell_type": "markdown",
   "id": "dd831cfb",
   "metadata": {},
   "source": [
    "# Modelagem"
   ]
  },
  {
   "cell_type": "markdown",
   "id": "b42c3382",
   "metadata": {},
   "source": [
    "## Linear Regression"
   ]
  },
  {
   "cell_type": "code",
   "execution_count": null,
   "id": "c5ebb235",
   "metadata": {
    "ExecuteTime": {
     "end_time": "2022-04-05T18:11:08.833033Z",
     "start_time": "2022-04-05T18:11:08.829458Z"
    }
   },
   "outputs": [],
   "source": [
    "X = df_tratado.drop(VALS_TO_DROP+['var_faturamento'], axis=1)\n",
    "y = df_tratado['var_faturamento']"
   ]
  },
  {
   "cell_type": "code",
   "execution_count": null,
   "id": "cdc5bc61",
   "metadata": {
    "ExecuteTime": {
     "end_time": "2022-04-05T18:11:10.121013Z",
     "start_time": "2022-04-05T18:11:10.110728Z"
    }
   },
   "outputs": [],
   "source": [
    "X.info()"
   ]
  },
  {
   "cell_type": "code",
   "execution_count": null,
   "id": "a10aad38",
   "metadata": {
    "ExecuteTime": {
     "end_time": "2022-04-05T18:11:13.853495Z",
     "start_time": "2022-04-05T18:11:13.847212Z"
    }
   },
   "outputs": [],
   "source": [
    "df_tratado['var_faturamento'].describe()"
   ]
  },
  {
   "cell_type": "code",
   "execution_count": null,
   "id": "9cafce9d",
   "metadata": {
    "ExecuteTime": {
     "end_time": "2022-04-05T18:11:14.232983Z",
     "start_time": "2022-04-05T18:11:14.228418Z"
    }
   },
   "outputs": [],
   "source": [
    "df_tratado['var_faturamento'].isna().sum()"
   ]
  },
  {
   "cell_type": "code",
   "execution_count": null,
   "id": "f824db48",
   "metadata": {},
   "outputs": [],
   "source": [
    "df.head()"
   ]
  },
  {
   "cell_type": "code",
   "execution_count": null,
   "id": "6df49655",
   "metadata": {},
   "outputs": [],
   "source": [
    "df['faturamento_mensal'] = df['media_faturamento_mes']\n",
    "df.loc[df.nao_mudou_funcionamento_empresa_na_crise==1, 'funcionamento_na_crise'] = 'nao_mudou_funcionamento_empresa_na_crise'\n",
    "df['funcionamento_na_crise'] = df['funcionamento_na_crise'].fillna('Alterou modo de funcionamento')\n",
    "df['vender_por_ferramentas_digitais_pre_crise'] = np.nan\n",
    "df['qtdade_demissao_funcionarios_ultimo_mes_covid'] = np.nan\n",
    "\n",
    "df.loc[(df['acao_reducao_horario_trabalho']==1) |\n",
    "        (df['acao_revezamento_equipe']==1) |\n",
    "        (df['acao_ferias_funcionarios']==1),\n",
    "        'adotou_medidas_com_funcionarios' ] = 1\n",
    "df['adotou_medidas_com_funcionarios'] = df['adotou_medidas_com_funcionarios'].fillna(0)\n",
    "df['buscou_emprestimo_crise'] = np.nan"
   ]
  },
  {
   "cell_type": "code",
   "execution_count": null,
   "id": "33c49582",
   "metadata": {},
   "outputs": [],
   "source": [
    "COLUNAS_EXPORT = [\n",
    "    'respondent_id', #\n",
    "    'medidas_expansao_vendas', #\n",
    "    'numero_pessoas_ocupadas',#\n",
    "    'funcionamento_na_crise',#\n",
    "    'adotou_medidas_com_funcionarios', \n",
    "    'qtdade_demissao_funcionarios_ultimo_mes_covid',#\n",
    "    'ramo_atuacao', #\n",
    "    'porte_da_empresa',#\n",
    "    'estado_de_origem',#\n",
    "    'faturamento_mensal',#\n",
    "    'buscou_emprestimo_crise',\n",
    "    'vender_por_ferramentas_digitais_pre_crise',#\n",
    "    'var_faturamento'#\n",
    "]"
   ]
  },
  {
   "cell_type": "code",
   "execution_count": null,
   "id": "5b145084",
   "metadata": {},
   "outputs": [],
   "source": [
    "df[COLUNAS_EXPORT].head()"
   ]
  },
  {
   "cell_type": "code",
   "execution_count": null,
   "id": "bda41eb6",
   "metadata": {},
   "outputs": [],
   "source": [
    "df[COLUNAS_EXPORT].to_csv('../data/20230524analise_variaveis_pesquisa_1.csv')"
   ]
  },
  {
   "cell_type": "code",
   "execution_count": null,
   "id": "fc75aad8",
   "metadata": {
    "ExecuteTime": {
     "end_time": "2022-04-05T18:11:14.776983Z",
     "start_time": "2022-04-05T18:11:14.770110Z"
    }
   },
   "outputs": [],
   "source": [
    "scaler = StandardScaler()\n",
    "X_std = scaler.fit_transform(X)"
   ]
  },
  {
   "cell_type": "code",
   "execution_count": null,
   "id": "64e9d398",
   "metadata": {
    "ExecuteTime": {
     "end_time": "2022-04-05T18:12:34.741332Z",
     "start_time": "2022-04-05T18:12:34.737096Z"
    }
   },
   "outputs": [],
   "source": [
    "model = LinearRegression().fit(X_std, y)"
   ]
  },
  {
   "cell_type": "code",
   "execution_count": null,
   "id": "fee8fd98",
   "metadata": {
    "ExecuteTime": {
     "end_time": "2022-04-05T18:12:35.054644Z",
     "start_time": "2022-04-05T18:12:35.049279Z"
    }
   },
   "outputs": [],
   "source": [
    "model.score(X_std, y)"
   ]
  },
  {
   "cell_type": "code",
   "execution_count": null,
   "id": "4a4a3cff",
   "metadata": {
    "ExecuteTime": {
     "end_time": "2022-04-05T18:12:35.459736Z",
     "start_time": "2022-04-05T18:12:35.455949Z"
    }
   },
   "outputs": [],
   "source": [
    "model.coef_"
   ]
  },
  {
   "cell_type": "code",
   "execution_count": null,
   "id": "f7df3f0c",
   "metadata": {
    "ExecuteTime": {
     "end_time": "2022-04-05T18:12:35.773235Z",
     "start_time": "2022-04-05T18:12:35.770194Z"
    }
   },
   "outputs": [],
   "source": [
    "coefs = pd.DataFrame(\n",
    "    model.coef_,\n",
    "    columns=['Coefficients'], index=X.columns.tolist()\n",
    ")"
   ]
  },
  {
   "cell_type": "code",
   "execution_count": null,
   "id": "daf1a040",
   "metadata": {
    "ExecuteTime": {
     "end_time": "2022-04-05T18:12:36.115275Z",
     "start_time": "2022-04-05T18:12:36.112000Z"
    }
   },
   "outputs": [],
   "source": [
    "df_coef = coefs.reindex(coefs['Coefficients'].abs().sort_values(ascending=False).index)"
   ]
  },
  {
   "cell_type": "code",
   "execution_count": null,
   "id": "d4c59fca",
   "metadata": {
    "ExecuteTime": {
     "end_time": "2022-04-05T18:12:36.519338Z",
     "start_time": "2022-04-05T18:12:36.511853Z"
    }
   },
   "outputs": [],
   "source": [
    "df_coef.reset_index()"
   ]
  },
  {
   "cell_type": "code",
   "execution_count": null,
   "id": "05e3369c",
   "metadata": {
    "ExecuteTime": {
     "end_time": "2022-04-05T18:12:37.167180Z",
     "start_time": "2022-04-05T18:12:37.007680Z"
    }
   },
   "outputs": [],
   "source": [
    "plt.figure(figsize=(10, 6))\n",
    "sns.barplot(x=\"Coefficients\", y=\"index\", data=df_coef.reset_index(),\n",
    "            label=\"coefs\", palette=[\"seagreen\" if x>=0 else 'r' for x in df_coef[\"Coefficients\"]])\n",
    "plt.show()"
   ]
  }
 ],
 "metadata": {
  "kernelspec": {
   "display_name": "Python 3",
   "language": "python",
   "name": "python3"
  },
  "language_info": {
   "codemirror_mode": {
    "name": "ipython",
    "version": 3
   },
   "file_extension": ".py",
   "mimetype": "text/x-python",
   "name": "python",
   "nbconvert_exporter": "python",
   "pygments_lexer": "ipython3",
   "version": "3.8.8"
  },
  "toc": {
   "base_numbering": 1,
   "nav_menu": {},
   "number_sections": true,
   "sideBar": true,
   "skip_h1_title": false,
   "title_cell": "Table of Contents",
   "title_sidebar": "Contents",
   "toc_cell": false,
   "toc_position": {
    "height": "calc(100% - 180px)",
    "left": "10px",
    "top": "150px",
    "width": "275.4px"
   },
   "toc_section_display": true,
   "toc_window_display": true
  }
 },
 "nbformat": 4,
 "nbformat_minor": 5
}
